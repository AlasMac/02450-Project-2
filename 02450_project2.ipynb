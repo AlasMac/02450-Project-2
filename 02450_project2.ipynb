{
 "cells": [
  {
   "cell_type": "markdown",
   "metadata": {},
   "source": [
    "02450 Project 2"
   ]
  },
  {
   "cell_type": "code",
   "execution_count": 23,
   "metadata": {},
   "outputs": [],
   "source": [
    "import os\n",
    "import numpy as np\n",
    "import glob\n",
    "import PIL.Image as Image\n",
    "from tqdm.notebook import tqdm\n",
    "import xlrd\n",
    "import scipy\n",
    "from scipy.linalg import svd\n",
    "\n",
    "import torch\n",
    "import torch.nn as nn\n",
    "import torch.nn.functional as F\n",
    "# import torchvision.datasets as datasets\n",
    "# from torch.utils.data import DataLoader\n",
    "# import torchvision.transforms as transforms\n",
    "import matplotlib.pyplot as plt\n",
    "from sklearn.decomposition import PCA\n",
    "from sklearn.preprocessing import StandardScaler\n",
    "import pandas as pd\n",
    "\n",
    "import sklearn.linear_model as lm\n",
    "from matplotlib.pylab import figure, hist, plot, show, subplot, xlabel, ylabel\n",
    "\n"
   ]
  },
  {
   "cell_type": "markdown",
   "metadata": {},
   "source": [
    "Load data from csv file"
   ]
  },
  {
   "cell_type": "code",
   "execution_count": 5,
   "metadata": {},
   "outputs": [],
   "source": [
    "cwd = os.getcwd()\n",
    "data = pd.read_csv(cwd + '/usa_wood_data_formatted.csv')\n",
    "# print(data.head())  \n"
   ]
  },
  {
   "cell_type": "markdown",
   "metadata": {},
   "source": [
    "Clean data by removing columns with significant amount of missing values"
   ]
  },
  {
   "cell_type": "code",
   "execution_count": null,
   "metadata": {},
   "outputs": [
    {
     "name": "stdout",
     "output_type": "stream",
     "text": [
      "common_species_name                   0\n",
      "genus                                 0\n",
      "species                               0\n",
      "scientific_name                       0\n",
      "classification                        0\n",
      "moisture_content                      0\n",
      "specific_gravity                      0\n",
      "modulus_of_rupture                    0\n",
      "modulus_of_elasticity                 0\n",
      "work_to_maximum_load                  0\n",
      "compression_parallel_to_grain         0\n",
      "compression_perpendicular_to_grain    0\n",
      "shear_parallel_to_grain               0\n",
      "dtype: int64\n",
      "[0.37 0.41 0.45 0.49 0.53 0.58 0.53 0.56 0.5 0.55 0.55 0.6 0.36 0.39 0.35\n",
      " 0.38 0.32 0.37 0.56 0.64 0.48 0.55 0.6 0.65 0.55 0.62 0.36 0.38 0.47 0.5\n",
      " 0.4 0.43 0.31 0.34 0.31 0.35 0.37 0.4 0.46 0.5 0.57 0.63 0.48 0.53 0.49\n",
      " 0.53 0.6 0.56 0.6 0.66 0.61 0.64 0.72 0.66 0.75 0.64 0.72 0.62 0.69 0.6\n",
      " 0.66 0.69 0.44 0.48 0.46 0.5 0.44 0.48 0.52 0.57 0.49 0.54 0.44 0.47 0.56\n",
      " 0.63 0.56 0.61 0.61 0.68 0.56 0.63 0.56 0.63 0.58 0.63 0.6 0.67 0.52 0.59\n",
      " 0.56 0.63 0.56 0.69 0.58 0.64 0.57 0.66 0.8 0.88 0.57 0.63 0.6 0.67 0.6\n",
      " 0.67 0.64 0.72 0.6 0.68 0.42 0.46 0.46 0.52 0.46 0.49 0.46 0.5 0.46 0.5\n",
      " 0.51 0.55 0.36 0.39 0.4 0.42 0.42 0.46 0.31 0.32 0.44 0.35 0.37 0.29 0.31\n",
      " 0.39 0.43 0.31 0.32 0.42 0.44 0.45 0.48 0.46 0.5 0.45 0.48 0.43 0.46 0.33\n",
      " 0.35 0.36 0.38 0.35 0.37 0.37 0.39 0.4 0.43 0.37 0.39 0.38 0.4 0.42 0.45\n",
      " 0.42 0.45 0.48 0.52 0.34 0.35 0.4 0.43 0.47 0.51 0.38 0.41 0.54 0.59 0.47\n",
      " 0.52 0.51 0.56 0.38 0.4 0.41 0.46 0.46 0.47 0.51 0.54 0.59 0.34 0.36 0.45\n",
      " 0.48 0.35 0.38 0.38 0.4 0.34 0.35 0.38 0.42 0.33 0.35 0.37 0.4 0.37 0.4\n",
      " 0.33 0.36 0.49 0.53]\n",
      "[[6500.0 1.17 8.0 2960.0 250.0]\n",
      " [9800.0 1.38 8.4 5820.0 440.0]\n",
      " [6000.0 1.04 12.1 2300.0 350.0]\n",
      " ...\n",
      " [9400.0 1.43 7.7 5180.0 430.0]\n",
      " [7200.0 1.24 7.2 3480.0 390.0]\n",
      " [11600.0 1.64 7.1 7160.0 800.0]]\n"
     ]
    }
   ],
   "source": [
    "removed_columns = ['side_hardness','tension_perpendicular_to_grain','impact_bending']\n",
    "data_cleaned = data.drop(columns=removed_columns)\n",
    "data_cleaned = data_cleaned.dropna()\n",
    "print(data_cleaned.isnull().sum()) # 0 means data is clean\n",
    "\n",
    "data_arr = np.array(data_cleaned)  # Attributes are columns\n",
    "y = data_arr[:,6]\n",
    "X = data_arr[:,7:12]"
   ]
  },
  {
   "cell_type": "markdown",
   "metadata": {},
   "source": [
    "Linear Regression"
   ]
  },
  {
   "cell_type": "code",
   "execution_count": 24,
   "metadata": {},
   "outputs": [
    {
     "data": {
      "image/png": "[encoded data removed]",
      "text/plain": [
       "<Figure size 640x480 with 2 Axes>"
      ]
     },
     "metadata": {},
     "output_type": "display_data"
    }
   ],
   "source": [
    "# Fit ordinary least squares regression model\n",
    "model = lm.LinearRegression(fit_intercept=True)\n",
    "model = model.fit(X, y)\n",
    "# Compute model output:\n",
    "y_est = model.predict(X)\n",
    "residual = y_est - y\n",
    "\n",
    "# Display scatter plot\n",
    "figure()\n",
    "subplot(2, 1, 1)\n",
    "plot(y, y_est, \".\")\n",
    "xlabel(\"Alcohol content (true)\")\n",
    "ylabel(\"Alcohol content (estimated)\")\n",
    "subplot(2, 1, 2)\n",
    "hist(residual, 40)\n",
    "\n",
    "show()"
   ]
  }
 ],
 "metadata": {
  "kernelspec": {
   "display_name": "IntroMachineLearning",
   "language": "python",
   "name": "python3"
  },
  "language_info": {
   "codemirror_mode": {
    "name": "ipython",
    "version": 3
   },
   "file_extension": ".py",
   "mimetype": "text/x-python",
   "name": "python",
   "nbconvert_exporter": "python",
   "pygments_lexer": "ipython3",
   "version": "3.9.19"
  }
 },
 "nbformat": 4,
 "nbformat_minor": 2
}
